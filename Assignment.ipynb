{
 "cells": [
  {
   "cell_type": "markdown",
   "metadata": {},
   "source": [
    "# Assignment"
   ]
  },
  {
   "cell_type": "markdown",
   "metadata": {},
   "source": [
    "Before evaluating the code:\n",
    "* If you haven't used Jupter Notebooks before checkout https://jupyter.org/ for more information.\n",
    "* Familirize yourself with OMERO.web inteface with the details provided in the email.\n",
    "  * OMERO.web client overview: https://help.openmicroscopy.org/web-client.html\n",
    "  * OMERO metadata concepts: http://help.openmicroscopy.org/managing-data.html#annotating\n",
    "  * General documentation: https://docs.openmicroscopy.org/omero/5.6.1/index.html\n",
    "  * Developer documentation: https://docs.openmicroscopy.org/omero/5.6.1/developers/index.html\n",
    "  * OMERO Python bindings: https://docs.openmicroscopy.org/omero/5.6.1/developers/Python.html"
   ]
  },
  {
   "cell_type": "markdown",
   "metadata": {},
   "source": [
    "### Import required OMERO packages"
   ]
  },
  {
   "cell_type": "code",
   "execution_count": null,
   "metadata": {},
   "outputs": [],
   "source": [
    "import omero\n",
    "from omero.gateway import BlitzGateway\n",
    "from getpass import getpass"
   ]
  },
  {
   "cell_type": "markdown",
   "metadata": {},
   "source": [
    "## Connect to OMERO server"
   ]
  },
  {
   "cell_type": "code",
   "execution_count": null,
   "metadata": {},
   "outputs": [],
   "source": [
    "HOST = \"omero-server-address\"\n",
    "gateway = BlitzGateway(\n",
    "    username=input(\"Username: \"),\n",
    "    passwd=getpass(\"OMERO Password: \"),\n",
    "    host=HOST,\n",
    "    secure=True)\n",
    "print(\"Connected: {}\".format(gateway.connect()))"
   ]
  },
  {
   "cell_type": "markdown",
   "metadata": {},
   "source": [
    "# WARM UP"
   ]
  },
  {
   "cell_type": "markdown",
   "metadata": {},
   "source": [
    "## User info"
   ]
  },
  {
   "cell_type": "code",
   "execution_count": null,
   "metadata": {},
   "outputs": [],
   "source": [
    "user = gateway.getUser()\n",
    "print(\"Current user:\")\n",
    "print(\"   ID: {}\".format(user.getId()))\n",
    "print(\"   Username: {}\".format(user.getName()))\n",
    "print(\"   Full Name: {}\".format(user.getFullName()))\n",
    "print(\"Member of:\")\n",
    "for g in gateway.getGroupsMemberOf():\n",
    "    print(\"   ID: {}, Name: {}\".format(g.getName(), g.getId()))\n",
    "group = gateway.getGroupFromContext()\n",
    "print(\"Current group: {}\".format(group.getName()))"
   ]
  },
  {
   "cell_type": "markdown",
   "metadata": {},
   "source": [
    "## List Images in a Dataset"
   ]
  },
  {
   "cell_type": "code",
   "execution_count": null,
   "metadata": {},
   "outputs": [],
   "source": [
    "dataset_id = 10152  # https://idr.openmicroscopy.org/webclient/?show=dataset-10152\n",
    "dataset = gateway.getObject(\"Dataset\", dataset_id)\n",
    "print(\"\\nImages in Dataset: {}\".format(dataset.getName()))\n",
    "for image in dataset.listChildren():\n",
    "    print(\"  Name: {}, Id: {}\".format(image.name, image.id))"
   ]
  },
  {
   "cell_type": "markdown",
   "metadata": {},
   "source": [
    "# TASK 1\n",
    "\n",
    "List images in the Project called: \"idr0038-held-kidneylightsheet/experimentA\".\n",
    "\n",
    "1. Use `gateway` object or OMERO.web client to find the Project ID.\n",
    "2. Create `CSV` file with the Project, Dataset and Image details. Expected header in the cell below.\n",
    "3. Use python's `csv` module to create a new spreadsheet file and save it.\n",
    "4. Attach the CSV together with the Notebook as an assignment result."
   ]
  },
  {
   "cell_type": "code",
   "execution_count": null,
   "metadata": {},
   "outputs": [],
   "source": [
    "import csv"
   ]
  },
  {
   "cell_type": "code",
   "execution_count": null,
   "metadata": {},
   "outputs": [],
   "source": [
    "HEADER = ['Project Name', 'Project Id', 'Dataset Name', 'Dataset Id', 'Image Name', 'Image Id',\n",
    "          'Image Size X', 'Image Size Y', 'Image Size Z', 'Image Size C', 'Image Size T']"
   ]
  },
  {
   "cell_type": "code",
   "execution_count": null,
   "metadata": {},
   "outputs": [],
   "source": [
    "# Add your code here\n",
    "project_id = "
   ]
  },
  {
   "cell_type": "markdown",
   "metadata": {},
   "source": [
    "# TASK 2\n",
    "\n",
    "1. Retrieve a raw image plane for image id: 9621401, channel index 0, z-section index 0 and timepoint index 0.\n",
    "2. Calculate min, max, mean and median intensity of the plane using `numpy` librabry.\n",
    "3. Encode the result as a JSON object and print it.\n",
    "\n",
    "`matplotlib` is installed so you can visualise the plane before performing calculations."
   ]
  },
  {
   "cell_type": "code",
   "execution_count": null,
   "metadata": {},
   "outputs": [],
   "source": [
    "import numpy"
   ]
  },
  {
   "cell_type": "code",
   "execution_count": null,
   "metadata": {},
   "outputs": [],
   "source": [
    "image_id = 9621401  # https://idr.openmicroscopy.org/webclient/?show=image-9621401"
   ]
  },
  {
   "cell_type": "code",
   "execution_count": null,
   "metadata": {},
   "outputs": [],
   "source": [
    "# Add your code here"
   ]
  },
  {
   "cell_type": "markdown",
   "metadata": {},
   "source": [
    "# TASK 3\n",
    "\n",
    "1. Use `numpy` to convert the plane from Task 2 to a binary mask by setting the threshold level to 60.\n",
    "2. Show the resulting binary using matplotlib.\n",
    "3. Save the image in \"PNG\" format and attach it with the Notebook to the email.\n"
   ]
  },
  {
   "cell_type": "code",
   "execution_count": null,
   "metadata": {},
   "outputs": [],
   "source": [
    "# Add your code here"
   ]
  },
  {
   "cell_type": "markdown",
   "metadata": {},
   "source": [
    "# TASK 4\n",
    "\n",
    "1. Segment the image plane from Task 2 using `scipy` and/or `skimage` library.\n",
    "2. Display the original or thresholded image using `matplotlib`.\n",
    "2. Add Points to the plot at the object centroid location. Set the point color to red.\n",
    "4. Find the bounding boxes around segmentated objects and add them to the plot.\n",
    "5. Save image in \"PNG\" format and attach it with the Notebook as an assignment result.\n",
    "\n",
    "`scipy` and `skimage` are installed. Ta make use of them you'll have to import the right modules first."
   ]
  },
  {
   "cell_type": "code",
   "execution_count": null,
   "metadata": {},
   "outputs": [],
   "source": [
    "# Add your imports here"
   ]
  },
  {
   "cell_type": "code",
   "execution_count": null,
   "metadata": {},
   "outputs": [],
   "source": [
    "# Add your code here"
   ]
  },
  {
   "cell_type": "markdown",
   "metadata": {},
   "source": [
    "# TASK 5\n",
    "\n",
    "1. Calculate stats: min, max, median, mean intesity for the following three image regions:\n",
    "    * Region A: (5200, 4000, 1000, 1000)\n",
    "    * Region B: (7000, 6000, 1000, 1000)\n",
    "    * Region C: (6500, 6700, 1000, 1000)\n",
    "\n",
    "   For image Id: 9798456, where region is defined as (x0, y0, width, height). x0, y0 defines top left corner of the region.\n",
    "2. Calculate the stats for all three channels.\n",
    "3. Encode the stats as json object.\n",
    "4. Calculate intensity histograms for all the three regions and show them side by side for comparison.\n",
    "5. Save the histogram plot as an image in \"PNG\" format and attach it with the Notebook as an assignment result.\n",
    "\n",
    "**Tip**: This is a large tiled image, do not try to read the whole image plane using pixels.getPlane() method. You should only load the regions defined by the ROIs using pixels.getTile() method."
   ]
  },
  {
   "cell_type": "code",
   "execution_count": null,
   "metadata": {},
   "outputs": [],
   "source": [
    "image_id = 9798456"
   ]
  },
  {
   "cell_type": "code",
   "execution_count": null,
   "metadata": {},
   "outputs": [],
   "source": [
    "# Add your code here"
   ]
  },
  {
   "cell_type": "markdown",
   "metadata": {},
   "source": [
    "# TASK 6\n",
    "\n",
    "1. Use the QueryService to find images annotated with Key=\"Organism Part\" and Value=\"kidney\" (MapAnnotation) for the Female cohort. Search only the images within the project \"idr0073-schaadt-immuneinfiltrates/experimentA\" (https://idr.openmicroscopy.org/webclient/?show=project-1002).\n",
    "2. Create a `CSV` file with the result. Name the file \"search_report.csv\"\n",
    "3. Attach the \"search_report.csv\" to the email with the Notebook as an assignment result.\n",
    "\n",
    "Note: \"Diagnosis\", \"Organism Part\", \"Medical Condition\", \"Sex\", \"Age\", \"Individual\" are Key names from MapAnnotations attached to each image in the \"idr0073-schaadt-immuneinfiltrates/experimentA\" project.\n"
   ]
  },
  {
   "cell_type": "code",
   "execution_count": null,
   "metadata": {},
   "outputs": [],
   "source": [
    "import csv"
   ]
  },
  {
   "cell_type": "code",
   "execution_count": null,
   "metadata": {},
   "outputs": [],
   "source": [
    "HEADER = ['Image Name', 'Image Id', \"Diagnosis\", \"Organism Part\", \"Medical Condition\", \"Sex\", \"Age\", \"Individual\"]"
   ]
  },
  {
   "cell_type": "code",
   "execution_count": null,
   "metadata": {},
   "outputs": [],
   "source": [
    "# Add your code here"
   ]
  }
 ],
 "metadata": {
  "kernelspec": {
   "display_name": "Python 3",
   "language": "python",
   "name": "python3"
  },
  "language_info": {
   "codemirror_mode": {
    "name": "ipython",
    "version": 3
   },
   "file_extension": ".py",
   "mimetype": "text/x-python",
   "name": "python",
   "nbconvert_exporter": "python",
   "pygments_lexer": "ipython3",
   "version": "3.6.9"
  }
 },
 "nbformat": 4,
 "nbformat_minor": 4
}
